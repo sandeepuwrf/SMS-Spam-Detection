{
 "cells": [
  {
   "cell_type": "markdown",
   "metadata": {},
   "source": [
    "# Project :SMS Spam Detection\n",
    "## CSIS 735\t\n",
    "### By Sandeep Gund"
   ]
  },
  {
   "cell_type": "code",
   "execution_count": 1,
   "metadata": {},
   "outputs": [
    {
     "name": "stderr",
     "output_type": "stream",
     "text": [
      "Using TensorFlow backend.\n"
     ]
    }
   ],
   "source": [
    "import numpy as np\n",
    "import pandas as pd\n",
    "\n",
    "from sklearn.model_selection import train_test_split\n",
    "from sklearn.model_selection import GridSearchCV\n",
    "from sklearn.linear_model import SGDClassifier\n",
    "from sklearn.model_selection import cross_val_score\n",
    "from sklearn.metrics import accuracy_score, confusion_matrix, precision_score, recall_score, f1_score\n",
    "from sklearn.feature_extraction.text import CountVectorizer\n",
    "from sklearn.base import BaseEstimator, TransformerMixin\n",
    "from sklearn.pipeline import Pipeline\n",
    "from sklearn import preprocessing\n",
    "from sklearn.tree import DecisionTreeClassifier\n",
    "from sklearn.naive_bayes import MultinomialNB\n",
    "from sklearn.metrics import classification_report\n",
    "from sklearn.feature_extraction.text import TfidfVectorizer\n",
    "\n",
    "import nltk\n",
    "import string\n",
    "from nltk.corpus import stopwords\n",
    "\n",
    "\n",
    "import matplotlib\n",
    "import matplotlib.pyplot as plt\n",
    "\n",
    "\n",
    "import tensorflow as tf\n",
    "import keras\n",
    "from keras import optimizers\n",
    "from keras import losses\n",
    "from keras import metrics\n",
    "from keras.models import Sequential\n",
    "from keras.layers import Dense, Activation\n",
    "from keras import backend as K \n",
    "from keras.layers.normalization import BatchNormalization\n",
    "from keras.layers import Dropout\n",
    "from tensorflow.keras.callbacks import EarlyStopping\n",
    "import time\n",
    "#clean up memory\n",
    "keras.backend.clear_session()\n",
    "\n",
    "#Use the following random seed for all your experiments\n",
    "random_seed = 1\n",
    "np.random.seed(random_seed)\n",
    "tf.random.set_seed(random_seed)"
   ]
  },
  {
   "cell_type": "markdown",
   "metadata": {},
   "source": [
    "#### Created functions for cleaning the input data\n",
    "The following function created to clean the unwanted columns from DataFrame\n",
    "- Rename the columns to meaningful names.\n",
    "- add new features like length of message.\n",
    "- Covert the message to token using NLTK word_tokenizer method.\n",
    "- Change values of text to numeric using LabelEncoder function.\n"
   ]
  },
  {
   "cell_type": "code",
   "execution_count": 2,
   "metadata": {},
   "outputs": [],
   "source": [
    "class AttributesAdder(BaseEstimator, TransformerMixin):\n",
    "    def fit(self, X, y=None):\n",
    "        return self # nothing else to do\n",
    "\n",
    "    def transform(self, X, y=None):\n",
    "        self.df_sms = X.drop([\"Unnamed: 2\", \"Unnamed: 3\", \"Unnamed: 4\"], axis=1)\n",
    "        self.df_sms = self.df_sms.rename(columns={\"v1\":\"label\", \"v2\":\"sms\"})\n",
    "        self.df_sms['sms'] =  self.df_sms['sms'].apply(TextProcess)\n",
    "        self.df_sms['length'] = self.df_sms['sms'].apply(len)\n",
    "        self.df_sms['totalwords'] = self.df_sms['sms'].str.count(' ') + 1\n",
    "        self.df_sms['tokens'] = self.df_sms['sms'].apply(lambda x: nltk.word_tokenize(x))\n",
    "        self.df_sms['pos_tags'] = self.df_sms['tokens'].apply(lambda x:[t for w, t in nltk.pos_tag(x)])\n",
    "        self.df_sms['pos_tag_sentence'] = self.df_sms['pos_tags'].apply(lambda x: ' '.join(x))\n",
    "        le = preprocessing.LabelEncoder()\n",
    "        self.df_sms['label'] = le.fit_transform(self.df_sms['label'])\n",
    "\n",
    "        return self.df_sms\n",
    "    "
   ]
  },
  {
   "cell_type": "markdown",
   "metadata": {},
   "source": [
    " Below calss will do Text Preprocessing to remove punctuation and cleaning words using stopwords "
   ]
  },
  {
   "cell_type": "code",
   "execution_count": 3,
   "metadata": {},
   "outputs": [],
   "source": [
    "def TextProcess(text):\n",
    "    \n",
    "    text = text.translate(str.maketrans('', '', string.punctuation))\n",
    "    text = [word for word in text.split() if word.lower() not in stopwords.words('english')]\n",
    "    \n",
    "    return \" \".join(text)"
   ]
  },
  {
   "cell_type": "markdown",
   "metadata": {},
   "source": [
    "Now, created functions for building Shallow Neural Network, which takes the input dimention and learning rate as input and runs for 6 layers (InputLayer-tanh and Outputlayer -sigmoid)"
   ]
  },
  {
   "cell_type": "code",
   "execution_count": 4,
   "metadata": {},
   "outputs": [],
   "source": [
    "def build_SNN_model(n,learning_rate):\n",
    "    model = Sequential()\n",
    "\n",
    "    model.add(Dense(1024,activation='tanh',input_dim=n))\n",
    "    model.add(Dense(512,activation='tanh'))\n",
    "    model.add(Dense(256,activation='tanh'))\n",
    "    model.add(Dense(1,activation='sigmoid'))\n",
    "\n",
    "    opt = keras.optimizers.SGD(lr=learning_rate)\n",
    "    model.compile(loss='binary_crossentropy', optimizer=opt, metrics=['accuracy'])\n",
    "    return model\n"
   ]
  },
  {
   "cell_type": "markdown",
   "metadata": {},
   "source": [
    "Created functions for building Deep Neural Network, which takes the input dimention and learning rate as input and runs for 6 layers (InputLayer-relu and Outputlayer -sigmoid)"
   ]
  },
  {
   "cell_type": "code",
   "execution_count": 5,
   "metadata": {},
   "outputs": [],
   "source": [
    "def build_DNN_model(n,learning_rate):\n",
    "    \n",
    "    num_classes = 1\n",
    "    n_hidden1 = 1024\n",
    "    n_hidden2 = 512\n",
    "    n_hidden3 = 256\n",
    "    n_hidden4 = 128\n",
    "    n_hidden5 = 64\n",
    "    n_outputs = num_classes\n",
    "    dropout_rate = 0.1\n",
    "    num_epochs = 500\n",
    "    \n",
    "    hidden_init = keras.initializers.he_normal(seed=1)\n",
    "    output_init = keras.initializers.glorot_uniform(seed=1) \n",
    "    model = Sequential() \n",
    "\n",
    "    model.add(Dense(n_hidden1, input_dim=n,kernel_initializer=hidden_init))\n",
    "    model.add(BatchNormalization())\n",
    "    model.add(Dropout(dropout_rate))\n",
    "    model.add(Activation('relu'))\n",
    "    model.add(Dense(n_hidden2, kernel_initializer=hidden_init))\n",
    "    model.add(BatchNormalization())\n",
    "    model.add(Dropout(dropout_rate))\n",
    "    model.add(Activation('relu'))\n",
    "    model.add(Dense(n_hidden3, kernel_initializer=hidden_init))\n",
    "    model.add(BatchNormalization())\n",
    "    model.add(Dropout(dropout_rate))\n",
    "    model.add(Activation('relu'))\n",
    "    model.add(Dense(n_hidden4, kernel_initializer=hidden_init))\n",
    "    model.add(BatchNormalization())\n",
    "    model.add(Dropout(dropout_rate))\n",
    "    model.add(Activation('relu'))\n",
    "    model.add(Dense(n_hidden5, kernel_initializer=hidden_init))\n",
    "    model.add(BatchNormalization())\n",
    "    model.add(Dropout(dropout_rate))\n",
    "    model.add(Activation('relu'))\n",
    "    model.add(Dense(n_outputs, kernel_initializer=output_init))\n",
    "    model.add(BatchNormalization())\n",
    "    model.add(Dropout(dropout_rate))\n",
    "    model.add(Activation('sigmoid'))\n",
    "\n",
    "\n",
    "    opt = keras.optimizers.Adagrad(learning_rate=learning_rate)#YOUR CODE GOES HERE#\n",
    "    model.compile(loss='binary_crossentropy', optimizer=opt, metrics=['accuracy'])\n",
    "\n",
    "\n",
    "    return model"
   ]
  },
  {
   "cell_type": "markdown",
   "metadata": {},
   "source": [
    "This method is to get the predict value of train and test."
   ]
  },
  {
   "cell_type": "code",
   "execution_count": 6,
   "metadata": {},
   "outputs": [],
   "source": [
    "def predict(X_trainS,X_testS):\n",
    "    p_train = model.predict(X_trainS)\n",
    "    h_train = np.array([elem for elem in p_train>0.5], dtype=int)\n",
    "    p_test = model.predict(X_testS) \n",
    "    h_test = np.array([elem for elem in p_test>0.5], dtype=int)  \n",
    "    return h_train,h_test"
   ]
  },
  {
   "cell_type": "markdown",
   "metadata": {},
   "source": [
    "Next, Created a method which will measure the model performance on the training set and test set using Confusion Matrix, Average Accuracy, Average Precision, Average Recall and Average F1-Score."
   ]
  },
  {
   "cell_type": "code",
   "execution_count": 7,
   "metadata": {},
   "outputs": [],
   "source": [
    "def matrix(input_y,input_h):\n",
    "    cf = confusion_matrix(input_y, input_h)\n",
    "    ca = np.mean(accuracy_score(np.squeeze(input_y), input_h))\n",
    "    ps = np.mean(precision_score(input_y, input_h, average=None)) \n",
    "    rs = np.mean(recall_score(input_y, input_h, average=None))\n",
    "    f1 = np.mean(f1_score(input_y, input_h, average=None))\n",
    "    return cf,ca,ps,rs,f1"
   ]
  },
  {
   "cell_type": "code",
   "execution_count": 8,
   "metadata": {
    "scrolled": true
   },
   "outputs": [
    {
     "data": {
      "text/html": [
       "<div>\n",
       "<style scoped>\n",
       "    .dataframe tbody tr th:only-of-type {\n",
       "        vertical-align: middle;\n",
       "    }\n",
       "\n",
       "    .dataframe tbody tr th {\n",
       "        vertical-align: top;\n",
       "    }\n",
       "\n",
       "    .dataframe thead th {\n",
       "        text-align: right;\n",
       "    }\n",
       "</style>\n",
       "<table border=\"1\" class=\"dataframe\">\n",
       "  <thead>\n",
       "    <tr style=\"text-align: right;\">\n",
       "      <th></th>\n",
       "      <th>v1</th>\n",
       "      <th>v2</th>\n",
       "      <th>Unnamed: 2</th>\n",
       "      <th>Unnamed: 3</th>\n",
       "      <th>Unnamed: 4</th>\n",
       "    </tr>\n",
       "  </thead>\n",
       "  <tbody>\n",
       "    <tr>\n",
       "      <th>count</th>\n",
       "      <td>5572</td>\n",
       "      <td>5572</td>\n",
       "      <td>50</td>\n",
       "      <td>12</td>\n",
       "      <td>6</td>\n",
       "    </tr>\n",
       "    <tr>\n",
       "      <th>unique</th>\n",
       "      <td>2</td>\n",
       "      <td>5169</td>\n",
       "      <td>43</td>\n",
       "      <td>10</td>\n",
       "      <td>5</td>\n",
       "    </tr>\n",
       "    <tr>\n",
       "      <th>top</th>\n",
       "      <td>ham</td>\n",
       "      <td>Sorry, I'll call later</td>\n",
       "      <td>bt not his girlfrnd... G o o d n i g h t . . .@\"</td>\n",
       "      <td>MK17 92H. 450Ppw 16\"</td>\n",
       "      <td>GNT:-)\"</td>\n",
       "    </tr>\n",
       "    <tr>\n",
       "      <th>freq</th>\n",
       "      <td>4825</td>\n",
       "      <td>30</td>\n",
       "      <td>3</td>\n",
       "      <td>2</td>\n",
       "      <td>2</td>\n",
       "    </tr>\n",
       "  </tbody>\n",
       "</table>\n",
       "</div>"
      ],
      "text/plain": [
       "          v1                      v2  \\\n",
       "count   5572                    5572   \n",
       "unique     2                    5169   \n",
       "top      ham  Sorry, I'll call later   \n",
       "freq    4825                      30   \n",
       "\n",
       "                                               Unnamed: 2  \\\n",
       "count                                                  50   \n",
       "unique                                                 43   \n",
       "top      bt not his girlfrnd... G o o d n i g h t . . .@\"   \n",
       "freq                                                    3   \n",
       "\n",
       "                   Unnamed: 3 Unnamed: 4  \n",
       "count                      12          6  \n",
       "unique                     10          5  \n",
       "top      MK17 92H. 450Ppw 16\"    GNT:-)\"  \n",
       "freq                        2          2  "
      ]
     },
     "execution_count": 8,
     "metadata": {},
     "output_type": "execute_result"
    }
   ],
   "source": [
    "#Load Data\n",
    "spamdataset = pd.read_csv(\"spam.csv\",encoding='latin-1')\n",
    "spamdataset.describe()"
   ]
  },
  {
   "cell_type": "code",
   "execution_count": 9,
   "metadata": {},
   "outputs": [
    {
     "data": {
      "text/html": [
       "<div>\n",
       "<style scoped>\n",
       "    .dataframe tbody tr th:only-of-type {\n",
       "        vertical-align: middle;\n",
       "    }\n",
       "\n",
       "    .dataframe tbody tr th {\n",
       "        vertical-align: top;\n",
       "    }\n",
       "\n",
       "    .dataframe thead th {\n",
       "        text-align: right;\n",
       "    }\n",
       "</style>\n",
       "<table border=\"1\" class=\"dataframe\">\n",
       "  <thead>\n",
       "    <tr style=\"text-align: right;\">\n",
       "      <th></th>\n",
       "      <th>v1</th>\n",
       "      <th>v2</th>\n",
       "      <th>Unnamed: 2</th>\n",
       "      <th>Unnamed: 3</th>\n",
       "      <th>Unnamed: 4</th>\n",
       "    </tr>\n",
       "  </thead>\n",
       "  <tbody>\n",
       "    <tr>\n",
       "      <th>0</th>\n",
       "      <td>ham</td>\n",
       "      <td>Go until jurong point, crazy.. Available only ...</td>\n",
       "      <td>NaN</td>\n",
       "      <td>NaN</td>\n",
       "      <td>NaN</td>\n",
       "    </tr>\n",
       "    <tr>\n",
       "      <th>1</th>\n",
       "      <td>ham</td>\n",
       "      <td>Ok lar... Joking wif u oni...</td>\n",
       "      <td>NaN</td>\n",
       "      <td>NaN</td>\n",
       "      <td>NaN</td>\n",
       "    </tr>\n",
       "    <tr>\n",
       "      <th>2</th>\n",
       "      <td>spam</td>\n",
       "      <td>Free entry in 2 a wkly comp to win FA Cup fina...</td>\n",
       "      <td>NaN</td>\n",
       "      <td>NaN</td>\n",
       "      <td>NaN</td>\n",
       "    </tr>\n",
       "    <tr>\n",
       "      <th>3</th>\n",
       "      <td>ham</td>\n",
       "      <td>U dun say so early hor... U c already then say...</td>\n",
       "      <td>NaN</td>\n",
       "      <td>NaN</td>\n",
       "      <td>NaN</td>\n",
       "    </tr>\n",
       "    <tr>\n",
       "      <th>4</th>\n",
       "      <td>ham</td>\n",
       "      <td>Nah I don't think he goes to usf, he lives aro...</td>\n",
       "      <td>NaN</td>\n",
       "      <td>NaN</td>\n",
       "      <td>NaN</td>\n",
       "    </tr>\n",
       "  </tbody>\n",
       "</table>\n",
       "</div>"
      ],
      "text/plain": [
       "     v1                                                 v2 Unnamed: 2  \\\n",
       "0   ham  Go until jurong point, crazy.. Available only ...        NaN   \n",
       "1   ham                      Ok lar... Joking wif u oni...        NaN   \n",
       "2  spam  Free entry in 2 a wkly comp to win FA Cup fina...        NaN   \n",
       "3   ham  U dun say so early hor... U c already then say...        NaN   \n",
       "4   ham  Nah I don't think he goes to usf, he lives aro...        NaN   \n",
       "\n",
       "  Unnamed: 3 Unnamed: 4  \n",
       "0        NaN        NaN  \n",
       "1        NaN        NaN  \n",
       "2        NaN        NaN  \n",
       "3        NaN        NaN  \n",
       "4        NaN        NaN  "
      ]
     },
     "execution_count": 9,
     "metadata": {},
     "output_type": "execute_result"
    }
   ],
   "source": [
    "#A quick look at the data structure\n",
    "spamdataset.head()"
   ]
  },
  {
   "cell_type": "code",
   "execution_count": 10,
   "metadata": {},
   "outputs": [
    {
     "name": "stdout",
     "output_type": "stream",
     "text": [
      "<class 'pandas.core.frame.DataFrame'>\n",
      "RangeIndex: 5572 entries, 0 to 5571\n",
      "Data columns (total 5 columns):\n",
      " #   Column      Non-Null Count  Dtype \n",
      "---  ------      --------------  ----- \n",
      " 0   v1          5572 non-null   object\n",
      " 1   v2          5572 non-null   object\n",
      " 2   Unnamed: 2  50 non-null     object\n",
      " 3   Unnamed: 3  12 non-null     object\n",
      " 4   Unnamed: 4  6 non-null      object\n",
      "dtypes: object(5)\n",
      "memory usage: 217.8+ KB\n"
     ]
    }
   ],
   "source": [
    "#A quick description of the data\n",
    "spamdataset.info()"
   ]
  },
  {
   "cell_type": "markdown",
   "metadata": {},
   "source": [
    "Used Pipeline to clean the data and make it avaliable for training and testing the model."
   ]
  },
  {
   "cell_type": "code",
   "execution_count": 11,
   "metadata": {},
   "outputs": [],
   "source": [
    "num_pipeline = Pipeline(steps = [\n",
    "                                    ('attribs_adder', AttributesAdder())\n",
    "                                ])\n",
    "\n",
    "\n",
    "X_train = num_pipeline.fit_transform(spamdataset)\n"
   ]
  },
  {
   "cell_type": "code",
   "execution_count": 12,
   "metadata": {},
   "outputs": [
    {
     "data": {
      "text/plain": [
       "ham     4825\n",
       "spam     747\n",
       "Name: v1, dtype: int64"
      ]
     },
     "execution_count": 12,
     "metadata": {},
     "output_type": "execute_result"
    }
   ],
   "source": [
    "#Count number of records present for each type of sms - ham and spam\n",
    "spamdataset.v1.value_counts()"
   ]
  },
  {
   "cell_type": "code",
   "execution_count": 13,
   "metadata": {},
   "outputs": [
    {
     "data": {
      "text/plain": [
       "Text(0.5, 0, 'Message Length')"
      ]
     },
     "execution_count": 13,
     "metadata": {},
     "output_type": "execute_result"
    },
    {
     "data": {
      "image/png": "[encoded data removed]",
      "text/plain": [
       "<Figure size 432x288 with 1 Axes>"
      ]
     },
     "metadata": {
      "needs_background": "light"
     },
     "output_type": "display_data"
    }
   ],
   "source": [
    "#A quick look at the histogram of data\n",
    "X_train['length'].plot(bins=50, kind='hist', color='blue', \n",
    "                                       label='Message Length', alpha=0.6)\n",
    "plt.legend()\n",
    "plt.xlabel(\"Message Length\")"
   ]
  },
  {
   "cell_type": "code",
   "execution_count": 14,
   "metadata": {},
   "outputs": [
    {
     "data": {
      "image/png": "[encoded data removed]",
      "text/plain": [
       "<Figure size 864x288 with 2 Axes>"
      ]
     },
     "metadata": {
      "needs_background": "light"
     },
     "output_type": "display_data"
    }
   ],
   "source": [
    "fig,ax = plt.subplots(1,2,figsize=(12,4))\n",
    "\n",
    "X_train[X_train['label']==0].hist(column='length', bins=50,ax=ax[0],color = 'green')\n",
    "ax[0].set(xlabel = 'SMS Length',ylabel = 'Frequency',title = 'HAM')\n",
    "X_train[X_train['label']==1].hist(column='length', bins=50,ax=ax[1],color = 'red')\n",
    "ax[1].set(xlabel = 'SMS Length',ylabel = 'Frequency',title = 'SPAM');"
   ]
  },
  {
   "cell_type": "markdown",
   "metadata": {},
   "source": [
    "Now, fetch the feature and target in X and Y. After that take the 10% of data for testing set."
   ]
  },
  {
   "cell_type": "markdown",
   "metadata": {},
   "source": [
    "# Model Exploration:\n",
    "### 1. Features created using TfidfVectorizer "
   ]
  },
  {
   "cell_type": "code",
   "execution_count": 15,
   "metadata": {},
   "outputs": [],
   "source": [
    "X = X_train['pos_tag_sentence']\n",
    "y = X_train['label']\n",
    "# print(X,y)"
   ]
  },
  {
   "cell_type": "code",
   "execution_count": 16,
   "metadata": {},
   "outputs": [],
   "source": [
    "X_trainData, X_testData, y_trainS, y_testS = train_test_split(\n",
    "    X, y, test_size=0.1, random_state=1, shuffle=True)"
   ]
  },
  {
   "cell_type": "markdown",
   "metadata": {},
   "source": [
    "Convert all text/string data of SMS to numerical features by using TfidfVectorizer."
   ]
  },
  {
   "cell_type": "code",
   "execution_count": 17,
   "metadata": {},
   "outputs": [],
   "source": [
    "\n",
    "vectorizer =TfidfVectorizer(sublinear_tf=True, max_df=0.5,\n",
    "                                 stop_words='english')\n",
    "X_trainS= vectorizer.fit_transform(X_trainData)\n",
    "X_testS = vectorizer.transform(X_testData)"
   ]
  },
  {
   "cell_type": "markdown",
   "metadata": {},
   "source": [
    "Check the shape of training and testing data features and targets."
   ]
  },
  {
   "cell_type": "code",
   "execution_count": 18,
   "metadata": {
    "scrolled": false
   },
   "outputs": [
    {
     "name": "stdout",
     "output_type": "stream",
     "text": [
      "(5014, 26) (5014,) (558, 26) (558,)\n"
     ]
    }
   ],
   "source": [
    "print(X_trainS.shape, y_trainS.shape, X_testS.shape, y_testS.shape)"
   ]
  },
  {
   "cell_type": "markdown",
   "metadata": {},
   "source": [
    "### 1.1: Logistic Regression (SGDClassifier) - Features created using TfidfVectorizer"
   ]
  },
  {
   "cell_type": "code",
   "execution_count": 19,
   "metadata": {},
   "outputs": [
    {
     "data": {
      "text/plain": [
       "SGDClassifier(eta0=0.1, loss='log', random_state=1, tol=0.1)"
      ]
     },
     "execution_count": 19,
     "metadata": {},
     "output_type": "execute_result"
    }
   ],
   "source": [
    "model_SGDClassifier = SGDClassifier(eta0=0.1, max_iter=1000, tol=0.1, random_state=1, loss='log')#, penalty=\"l2\")\n",
    "model_SGDClassifier.fit(X_trainS, y_trainS.squeeze())"
   ]
  },
  {
   "cell_type": "code",
   "execution_count": 20,
   "metadata": {},
   "outputs": [],
   "source": [
    "# find prediction for training and testing set.\n",
    "h_train = model_SGDClassifier.predict(X_trainS)\n",
    "h_test = model_SGDClassifier.predict(X_testS)\n",
    "# print(\"Prediction: \",h_train)\n"
   ]
  },
  {
   "cell_type": "code",
   "execution_count": 21,
   "metadata": {},
   "outputs": [
    {
     "name": "stdout",
     "output_type": "stream",
     "text": [
      ">>>>>>>>>>Training Performance<<<<<<<<<<\n",
      "Train Confusion Matrix:\n",
      " [[4129  206]\n",
      " [ 206  473]]\n",
      "Train Accuracy: 91.78%\n",
      "Train Precision 82.45%\n",
      "Train Recall: 82.45%\n",
      "Train F1: 82.45%\n",
      "\n",
      ">>>>>>>>>>Test Performance<<<<<<<<<<\n",
      "Test Confusion Matrix:\n",
      " [[462  28]\n",
      " [ 16  52]]\n",
      "Test Accuracy: 92.11%\n",
      "Test Precision 80.83%\n",
      "Test Recall 85.38%\n",
      "Test F1: 82.86%\n"
     ]
    }
   ],
   "source": [
    "pred_scores = []\n",
    "\n",
    "cf_train,ca_train,ps_train,rs_train,f1_train=matrix(y_trainS,h_train)\n",
    "\n",
    "print(\">>>>>>>>>>Training Performance<<<<<<<<<<\")\n",
    "print(\"Train Confusion Matrix:\\n\", cf_train)\n",
    "print(\"Train Accuracy: {0:0.2%}\".format(ca_train))\n",
    "print(\"Train Precision {0:0.2%}\".format(ps_train))\n",
    "print(\"Train Recall: {0:0.2%}\".format(rs_train))\n",
    "print(\"Train F1: {0:0.2%}\".format(f1_train))\n",
    "\n",
    "cf_test,ca_test,ps_test,rs_test,f1_test=matrix(y_testS,h_test)\n",
    "\n",
    "print(\"\\n>>>>>>>>>>Test Performance<<<<<<<<<<\")\n",
    "print(\"Test Confusion Matrix:\\n\", cf_test)\n",
    "print(\"Test Accuracy: {0:0.2%}\".format(ca_test))\n",
    "print(\"Test Precision {0:0.2%}\".format(ps_test))\n",
    "print(\"Test Recall {0:0.2%}\".format(rs_test))\n",
    "print(\"Test F1: {0:0.2%}\".format(f1_test))\n",
    "\n",
    "pred_scores.append((\"SGDClassifier_TfidfVectorizer\",f1_test))\n"
   ]
  },
  {
   "cell_type": "markdown",
   "metadata": {},
   "source": [
    "### 1.2: Tuning models (Logistic Regression) with GridSearch to find the best parameters - Features created using TfidfVectorizer "
   ]
  },
  {
   "cell_type": "code",
   "execution_count": 22,
   "metadata": {},
   "outputs": [
    {
     "name": "stdout",
     "output_type": "stream",
     "text": [
      "CV F1 scores:  [0.68493151 0.68085106 0.66197183 0.67741935 0.57627119 0.58928571\n",
      " 0.6984127  0.6875     0.68531469 0.6962963 ]\n",
      "Average F1: 66.38%\n"
     ]
    }
   ],
   "source": [
    "model = SGDClassifier(eta0=0.3, max_iter=1000, tol=0.1, random_state=1, loss='log', penalty=\"l2\")\n",
    "f1_scores = cross_val_score(model, X_trainS, y_trainS.squeeze(), scoring='f1', cv=10 )\n",
    "print(\"CV F1 scores: \", f1_scores)\n",
    "print(\"Average F1: {0:0.2%}\".format(np.mean(f1_scores)))"
   ]
  },
  {
   "cell_type": "code",
   "execution_count": 23,
   "metadata": {},
   "outputs": [
    {
     "name": "stdout",
     "output_type": "stream",
     "text": [
      "{'eta0': 0.9, 'learning_rate': 'adaptive', 'max_iter': 1000}\n",
      "Time: 12.057932376861572\n"
     ]
    }
   ],
   "source": [
    "start = time.time()\n",
    "\n",
    "model = SGDClassifier(tol=0.1, random_state=1, loss='log')\n",
    "param_grid = [\n",
    "                {'learning_rate': ['invscaling', 'adaptive'],\n",
    "                 'eta0': [0.1, 0.3, 0.4, 0.5, 0.6, 0.7, 0.8, 0.9], \n",
    "                 'max_iter': [1000, 2000, 3000, 4000, 5000], \n",
    "                }\n",
    "]\n",
    "\n",
    "grid_search = GridSearchCV(model, param_grid, cv=10, scoring='f1', refit=True)\n",
    "grid_search.fit(X_trainS, y_trainS.squeeze())\n",
    "print(grid_search.best_params_)\n",
    "print(f'Time: {time.time() - start}')"
   ]
  },
  {
   "cell_type": "code",
   "execution_count": 24,
   "metadata": {},
   "outputs": [
    {
     "name": "stdout",
     "output_type": "stream",
     "text": [
      ">>>>>>>>>>Training Performance<<<<<<<<<<\n",
      "Train Confusion Matrix:\n",
      " [[4129  206]\n",
      " [ 206  473]]\n",
      "Train Accuracy: 91.78%\n",
      "Train Precision 82.45%\n",
      "Train Recall: 82.45%\n",
      "Train F1: 82.45%\n",
      "\n",
      ">>>>>>>>>>Test Performance<<<<<<<<<<\n",
      "Test Confusion Matrix:\n",
      " [[468  22]\n",
      " [ 21  47]]\n",
      "Test Accuracy: 92.29%\n",
      "Test Precision 81.91%\n",
      "Test Recall 82.31%\n",
      "Test F1: 82.11%\n"
     ]
    }
   ],
   "source": [
    "best_model = grid_search.best_estimator_\n",
    "\n",
    "\n",
    "h_train = model_SGDClassifier.predict(X_trainS)\n",
    "h_test = best_model.predict(X_testS)\n",
    "\n",
    "cf_train,ca_train,ps_train,rs_train,f1_train=matrix(y_trainS,h_train)\n",
    "\n",
    "print(\">>>>>>>>>>Training Performance<<<<<<<<<<\")\n",
    "print(\"Train Confusion Matrix:\\n\", cf_train)\n",
    "print(\"Train Accuracy: {0:0.2%}\".format(ca_train))\n",
    "print(\"Train Precision {0:0.2%}\".format(ps_train))\n",
    "print(\"Train Recall: {0:0.2%}\".format(rs_train))\n",
    "print(\"Train F1: {0:0.2%}\".format(f1_train))\n",
    "\n",
    "cf_test,ca_test,ps_test,rs_test,f1_test=matrix(y_testS,h_test)\n",
    "\n",
    "\n",
    "print(\"\\n>>>>>>>>>>Test Performance<<<<<<<<<<\")\n",
    "print(\"Test Confusion Matrix:\\n\", cf_test)\n",
    "print(\"Test Accuracy: {0:0.2%}\".format(ca_test))\n",
    "print(\"Test Precision {0:0.2%}\".format(ps_test))\n",
    "print(\"Test Recall {0:0.2%}\".format(rs_test))\n",
    "print(\"Test F1: {0:0.2%}\".format(f1_test))\n",
    "\n",
    "pred_scores.append((\"SGDClassifier_GS_TfidfVectorizer\",f1_test))"
   ]
  },
  {
   "cell_type": "markdown",
   "metadata": {},
   "source": [
    "### 1.3: Shallow Neural Network (SNN) - Features created using TfidfVectorizer "
   ]
  },
  {
   "cell_type": "code",
   "execution_count": 25,
   "metadata": {},
   "outputs": [
    {
     "name": "stdout",
     "output_type": "stream",
     "text": [
      "(5014, 26) (5014,) (558, 26) (558,)\n"
     ]
    }
   ],
   "source": [
    "print(X_trainS.shape, y_trainS.shape, X_testS.shape, y_testS.shape)"
   ]
  },
  {
   "cell_type": "code",
   "execution_count": 26,
   "metadata": {},
   "outputs": [
    {
     "name": "stdout",
     "output_type": "stream",
     "text": [
      "Time: 11.478394269943237\n"
     ]
    }
   ],
   "source": [
    "K.clear_session()\n",
    "\n",
    "start = time.time()\n",
    "\n",
    "\n",
    "num_epochs=50\n",
    "\n",
    "early_stopping = EarlyStopping(monitor='val_loss', min_delta = 0.1,patience=10) \n",
    "callbacks_list = [early_stopping]\n",
    "\n",
    "model = build_SNN_model(X_trainS.shape[1],0.1)\n",
    "history = model.fit(X_trainS,\n",
    "                   y_trainS,\n",
    "                   epochs=num_epochs,\n",
    "                   verbose=0,\n",
    "                   validation_split=0.1,\n",
    "                   callbacks=callbacks_list)\n",
    "history_dict = history.history\n",
    "history_dict.keys()\n",
    "\n",
    "print(f'Time: {time.time() - start}')"
   ]
  },
  {
   "cell_type": "code",
   "execution_count": 27,
   "metadata": {},
   "outputs": [
    {
     "data": {
      "image/png": "[encoded data removed]",
      "text/plain": [
       "<Figure size 432x288 with 1 Axes>"
      ]
     },
     "metadata": {
      "needs_background": "light"
     },
     "output_type": "display_data"
    },
    {
     "data": {
      "image/png": "[encoded data removed]",
      "text/plain": [
       "<Figure size 432x288 with 1 Axes>"
      ]
     },
     "metadata": {
      "needs_background": "light"
     },
     "output_type": "display_data"
    },
    {
     "data": {
      "image/png": "[encoded data removed]",
      "text/plain": [
       "<Figure size 432x288 with 1 Axes>"
      ]
     },
     "metadata": {
      "needs_background": "light"
     },
     "output_type": "display_data"
    },
    {
     "data": {
      "image/png": "[encoded data removed]",
      "text/plain": [
       "<Figure size 432x288 with 1 Axes>"
      ]
     },
     "metadata": {
      "needs_background": "light"
     },
     "output_type": "display_data"
    }
   ],
   "source": [
    "training_fig = plt.figure()\n",
    "training_ax = training_fig.add_subplot(111)\n",
    "training_ax.plot(history.history['loss'])\n",
    "training_ax.plot(history.history['accuracy'])\n",
    "training_ax.set_title('Training loss and accuracy')\n",
    "training_ax.set_xlabel('epoch')\n",
    "training_ax.legend(['loss', 'accuracy'], loc='upper right')\n",
    "\n",
    "validation_fig = plt.figure()\n",
    "validation_ax = validation_fig.add_subplot(111)\n",
    "validation_ax.plot(history.history['val_loss'])\n",
    "validation_ax.plot(history.history['val_accuracy'])\n",
    "validation_ax.set_title('Validation loss and accuracy')\n",
    "validation_ax.set_xlabel('epoch')\n",
    "validation_ax.legend(['val_loss', 'val_accuracy'], loc='upper right')\n",
    "\n",
    "tarin_val_loss_fig = plt.figure()\n",
    "tarin_val_loss_ax = tarin_val_loss_fig.add_subplot(111)\n",
    "tarin_val_loss_ax.plot(history.history['loss'])\n",
    "tarin_val_loss_ax.plot(history.history['val_loss'])\n",
    "tarin_val_loss_ax.set_title('Training and Validation loss')\n",
    "tarin_val_loss_ax.set_xlabel('epoch')\n",
    "tarin_val_loss_ax.legend(['loss', 'val_loss'], loc='upper right')\n",
    "\n",
    "tarin_val_loss_fig = plt.figure()\n",
    "tarin_val_loss_ax = tarin_val_loss_fig.add_subplot(111)\n",
    "tarin_val_loss_ax.plot(history.history['accuracy'])\n",
    "tarin_val_loss_ax.plot(history.history['val_accuracy'])\n",
    "tarin_val_loss_ax.set_title('Training and Validation accuracy')\n",
    "tarin_val_loss_ax.set_xlabel('epoch')\n",
    "tarin_val_loss_ax.legend(['accuracy', 'val_accuracy'], loc='upper right')\n",
    "\n",
    "\n",
    "plt.show()"
   ]
  },
  {
   "cell_type": "code",
   "execution_count": 28,
   "metadata": {},
   "outputs": [],
   "source": [
    "# Prdict the train and test data.\n",
    "h_train,h_test = predict(X_trainS,X_testS)"
   ]
  },
  {
   "cell_type": "code",
   "execution_count": 29,
   "metadata": {},
   "outputs": [
    {
     "name": "stdout",
     "output_type": "stream",
     "text": [
      "Training Performance\n",
      "Average Train Confusion Matrix:\n",
      " [[4164  171]\n",
      " [ 263  416]]\n",
      "Average Train Accuracy: 91.34%\n",
      "Average Train Precision 82.46%\n",
      "Average Train Recall: 78.66%\n",
      "Average Train F1: 80.38%\n",
      "Training Performance\n",
      "Average Test Confusion Matrix:\n",
      " [[470  20]\n",
      " [ 26  42]]\n",
      "Average Test Accuracy: 91.76%\n",
      "Average Test Precision 81.25%\n",
      "Average Test Recall 78.84%\n",
      "Average Test F1: 79.98%\n"
     ]
    }
   ],
   "source": [
    "cf_train,ca_train,ps_train,rs_train,f1_train=matrix(y_trainS,h_train)\n",
    "\n",
    "\n",
    "print(\"Training Performance\")\n",
    "print(\"Average Train Confusion Matrix:\\n\", cf_train)\n",
    "print(\"Average Train Accuracy: {0:0.2%}\".format(ca_train))\n",
    "print(\"Average Train Precision {0:0.2%}\".format(ps_train))\n",
    "print(\"Average Train Recall: {0:0.2%}\".format(rs_train))\n",
    "print(\"Average Train F1: {0:0.2%}\".format(f1_train))\n",
    "\n",
    "cf_test,ca_test,ps_test,rs_test,f1_test=matrix(y_testS,h_test)\n",
    "\n",
    "print(\"Training Performance\")\n",
    "print(\"Average Test Confusion Matrix:\\n\", cf_test)\n",
    "print(\"Average Test Accuracy: {0:0.2%}\".format(ca_test))\n",
    "print(\"Average Test Precision {0:0.2%}\".format(ps_test))\n",
    "print(\"Average Test Recall {0:0.2%}\".format(rs_test))\n",
    "print(\"Average Test F1: {0:0.2%}\".format(f1_test))\n",
    "\n",
    "pred_scores.append((\"SNN_TfidfVectorizer\",f1_test))"
   ]
  },
  {
   "cell_type": "markdown",
   "metadata": {},
   "source": [
    "### 1.4: Deep Neural Network (DNN) - Features created using TfidfVectorizer "
   ]
  },
  {
   "cell_type": "code",
   "execution_count": 30,
   "metadata": {},
   "outputs": [
    {
     "name": "stdout",
     "output_type": "stream",
     "text": [
      "Train on 4512 samples, validate on 502 samples\n",
      "Epoch 1/50\n",
      "4512/4512 [==============================] - 3s 607us/step - loss: 0.3692 - accuracy: 0.8797 - val_loss: 0.3276 - val_accuracy: 0.8825\n",
      "Epoch 2/50\n",
      "4512/4512 [==============================] - 2s 397us/step - loss: 0.2845 - accuracy: 0.9054 - val_loss: 0.2483 - val_accuracy: 0.9064\n",
      "Epoch 3/50\n",
      "4512/4512 [==============================] - 2s 405us/step - loss: 0.2577 - accuracy: 0.9102 - val_loss: 0.2076 - val_accuracy: 0.9243\n",
      "Epoch 4/50\n",
      "4512/4512 [==============================] - 2s 401us/step - loss: 0.2577 - accuracy: 0.9076 - val_loss: 0.2052 - val_accuracy: 0.9263\n",
      "Epoch 5/50\n",
      "4512/4512 [==============================] - 2s 395us/step - loss: 0.2570 - accuracy: 0.9136 - val_loss: 0.2115 - val_accuracy: 0.9183\n",
      "Epoch 6/50\n",
      "4512/4512 [==============================] - 2s 399us/step - loss: 0.2411 - accuracy: 0.9189 - val_loss: 0.2088 - val_accuracy: 0.9303\n",
      "Epoch 7/50\n",
      "4512/4512 [==============================] - 2s 398us/step - loss: 0.2449 - accuracy: 0.9191 - val_loss: 0.1936 - val_accuracy: 0.9363\n",
      "Epoch 8/50\n",
      "4512/4512 [==============================] - 2s 427us/step - loss: 0.2437 - accuracy: 0.9138 - val_loss: 0.2001 - val_accuracy: 0.9243\n",
      "Epoch 9/50\n",
      "4512/4512 [==============================] - 2s 418us/step - loss: 0.2438 - accuracy: 0.9129 - val_loss: 0.1893 - val_accuracy: 0.9382\n",
      "Epoch 10/50\n",
      "4512/4512 [==============================] - 2s 400us/step - loss: 0.2359 - accuracy: 0.9240 - val_loss: 0.1935 - val_accuracy: 0.9303\n",
      "Epoch 11/50\n",
      "4512/4512 [==============================] - 2s 397us/step - loss: 0.2307 - accuracy: 0.9235 - val_loss: 0.1977 - val_accuracy: 0.9303\n",
      "Epoch 12/50\n",
      "4512/4512 [==============================] - 2s 401us/step - loss: 0.2295 - accuracy: 0.9260 - val_loss: 0.1906 - val_accuracy: 0.9363\n",
      "Epoch 13/50\n",
      "4512/4512 [==============================] - 2s 394us/step - loss: 0.2290 - accuracy: 0.9258 - val_loss: 0.1949 - val_accuracy: 0.9323\n",
      "Time: 27.755415678024292\n"
     ]
    }
   ],
   "source": [
    "\n",
    "K.clear_session()\n",
    "start = time.time()\n",
    "\n",
    "\n",
    "early_stopping = EarlyStopping(monitor='val_loss', min_delta = 0.1,patience=10) \n",
    "callbacks_list = [early_stopping]\n",
    "\n",
    "model = build_DNN_model(X_trainS.shape[1],0.1)\n",
    "\n",
    "\n",
    "history =model.fit(X_trainS,\n",
    "                   y_trainS,\n",
    "                   epochs=num_epochs,\n",
    "                   verbose=1,\n",
    "                   validation_split=0.1,\n",
    "                   callbacks=callbacks_list)\n",
    "print(f'Time: {time.time() - start}')"
   ]
  },
  {
   "cell_type": "code",
   "execution_count": 31,
   "metadata": {},
   "outputs": [
    {
     "data": {
      "image/png": "[encoded data removed]",
      "text/plain": [
       "<Figure size 432x288 with 1 Axes>"
      ]
     },
     "metadata": {
      "needs_background": "light"
     },
     "output_type": "display_data"
    },
    {
     "data": {
      "image/png": "[encoded data removed]",
      "text/plain": [
       "<Figure size 432x288 with 1 Axes>"
      ]
     },
     "metadata": {
      "needs_background": "light"
     },
     "output_type": "display_data"
    },
    {
     "data": {
      "image/png": "[encoded data removed]",
      "text/plain": [
       "<Figure size 432x288 with 1 Axes>"
      ]
     },
     "metadata": {
      "needs_background": "light"
     },
     "output_type": "display_data"
    },
    {
     "data": {
      "image/png": "[encoded data removed]",
      "text/plain": [
       "<Figure size 432x288 with 1 Axes>"
      ]
     },
     "metadata": {
      "needs_background": "light"
     },
     "output_type": "display_data"
    }
   ],
   "source": [
    "training_fig = plt.figure()\n",
    "training_ax = training_fig.add_subplot(111)\n",
    "training_ax.plot(history.history['loss'])\n",
    "training_ax.plot(history.history['accuracy'])\n",
    "training_ax.set_title('Training loss and accuracy')\n",
    "training_ax.set_xlabel('epoch')\n",
    "training_ax.legend(['loss', 'accuracy'], loc='upper right')\n",
    "\n",
    "validation_fig = plt.figure()\n",
    "validation_ax = validation_fig.add_subplot(111)\n",
    "validation_ax.plot(history.history['val_loss'])\n",
    "validation_ax.plot(history.history['val_accuracy'])\n",
    "validation_ax.set_title('Validation loss and accuracy')\n",
    "validation_ax.set_xlabel('epoch')\n",
    "validation_ax.legend(['val_loss', 'val_accuracy'], loc='upper right')\n",
    "\n",
    "tarin_val_loss_fig = plt.figure()\n",
    "tarin_val_loss_ax = tarin_val_loss_fig.add_subplot(111)\n",
    "tarin_val_loss_ax.plot(history.history['loss'])\n",
    "tarin_val_loss_ax.plot(history.history['val_loss'])\n",
    "tarin_val_loss_ax.set_title('Training and Validation loss')\n",
    "tarin_val_loss_ax.set_xlabel('epoch')\n",
    "tarin_val_loss_ax.legend(['loss', 'val_loss'], loc='upper right')\n",
    "\n",
    "tarin_val_loss_fig = plt.figure()\n",
    "tarin_val_loss_ax = tarin_val_loss_fig.add_subplot(111)\n",
    "tarin_val_loss_ax.plot(history.history['accuracy'])\n",
    "tarin_val_loss_ax.plot(history.history['val_accuracy'])\n",
    "tarin_val_loss_ax.set_title('Training and Validation accuracy')\n",
    "tarin_val_loss_ax.set_xlabel('epoch')\n",
    "tarin_val_loss_ax.legend(['accuracy', 'val_accuracy'], loc='upper right')\n",
    "\n",
    "\n",
    "plt.show()"
   ]
  },
  {
   "cell_type": "code",
   "execution_count": 32,
   "metadata": {},
   "outputs": [],
   "source": [
    "h_train,h_test=predict(X_trainS,X_testS)"
   ]
  },
  {
   "cell_type": "code",
   "execution_count": 33,
   "metadata": {},
   "outputs": [
    {
     "name": "stdout",
     "output_type": "stream",
     "text": [
      "Training Performance\n",
      "Average Train Confusion Matrix:\n",
      " [[4286   49]\n",
      " [ 245  434]]\n",
      "Average Train Accuracy: 94.14%\n",
      "Average Train Precision 92.22%\n",
      "Average Train Recall: 81.39%\n",
      "Average Train F1: 85.69%\n",
      "Training Performance\n",
      "Average Test Confusion Matrix:\n",
      " [[484   6]\n",
      " [ 27  41]]\n",
      "Average Test Accuracy: 94.09%\n",
      "Average Test Precision 90.98%\n",
      "Average Test Recall 79.53%\n",
      "Average Test F1: 84.00%\n"
     ]
    }
   ],
   "source": [
    "\n",
    "cf_train,ca_train,ps_train,rs_train,f1_train=matrix(y_trainS,h_train)\n",
    "\n",
    "\n",
    "print(\"Training Performance\")\n",
    "print(\"Average Train Confusion Matrix:\\n\", cf_train)\n",
    "print(\"Average Train Accuracy: {0:0.2%}\".format(ca_train))\n",
    "print(\"Average Train Precision {0:0.2%}\".format(ps_train))\n",
    "print(\"Average Train Recall: {0:0.2%}\".format(rs_train))\n",
    "print(\"Average Train F1: {0:0.2%}\".format(f1_train))\n",
    "\n",
    "cf_test,ca_test,ps_test,rs_test,f1_test=matrix(y_testS,h_test)\n",
    "\n",
    "\n",
    "print(\"Training Performance\")\n",
    "print(\"Average Test Confusion Matrix:\\n\", cf_test)\n",
    "print(\"Average Test Accuracy: {0:0.2%}\".format(ca_test))\n",
    "print(\"Average Test Precision {0:0.2%}\".format(ps_test))\n",
    "print(\"Average Test Recall {0:0.2%}\".format(rs_test))\n",
    "print(\"Average Test F1: {0:0.2%}\".format(f1_test))\n",
    "\n",
    "pred_scores.append((\"DNN_TfidfVectorizer\",f1_test))"
   ]
  },
  {
   "cell_type": "markdown",
   "metadata": {},
   "source": [
    "### 1.5: DecisionTreeClassifier - Features created using TfidfVectorizer "
   ]
  },
  {
   "cell_type": "code",
   "execution_count": 34,
   "metadata": {},
   "outputs": [
    {
     "data": {
      "text/plain": [
       "DecisionTreeClassifier(random_state=50)"
      ]
     },
     "execution_count": 34,
     "metadata": {},
     "output_type": "execute_result"
    }
   ],
   "source": [
    "dt = DecisionTreeClassifier(random_state=50)\n",
    "dt.fit(X_trainS, y_trainS)"
   ]
  },
  {
   "cell_type": "code",
   "execution_count": 35,
   "metadata": {},
   "outputs": [
    {
     "name": "stdout",
     "output_type": "stream",
     "text": [
      "(5014,) (558,)\n"
     ]
    }
   ],
   "source": [
    "dt_p_train = dt.predict(X_trainS)\n",
    "print(dt_p_train.shape,y_testS.shape)"
   ]
  },
  {
   "cell_type": "code",
   "execution_count": 36,
   "metadata": {},
   "outputs": [
    {
     "name": "stdout",
     "output_type": "stream",
     "text": [
      "[[4326    9]\n",
      " [ 132  547]]\n"
     ]
    }
   ],
   "source": [
    "cm = confusion_matrix(y_trainS, dt_p_train)\n",
    "\n",
    "print(cm)"
   ]
  },
  {
   "cell_type": "code",
   "execution_count": 37,
   "metadata": {},
   "outputs": [
    {
     "name": "stdout",
     "output_type": "stream",
     "text": [
      "Accuracy :: 94.62% \n",
      "\n",
      "\n",
      "              precision    recall  f1-score   support\n",
      "\n",
      "         ham       0.96      0.98      0.97       490\n",
      "        spam       0.81      0.74      0.77        68\n",
      "\n",
      "    accuracy                           0.95       558\n",
      "   macro avg       0.89      0.86      0.87       558\n",
      "weighted avg       0.94      0.95      0.95       558\n",
      "\n",
      "Average Train Confusion Matrix:\n",
      " [[4326    9]\n",
      " [ 132  547]]\n",
      "Average Train Accuracy: 97.19%\n",
      "Average Train Precision 97.71%\n",
      "Average Train Recall: 90.18%\n",
      "Average Train F1: 93.49%\n"
     ]
    }
   ],
   "source": [
    "target_names = ['ham', 'spam']\n",
    "print (\"Accuracy :: {0:0.2%} \\n\\n\" .format(accuracy_score(y_testS, dt.predict(X_testS))))\n",
    "print (classification_report(y_testS, dt.predict(X_testS),target_names=target_names))\n",
    "\n",
    "cf_train,ca_train,ps_train,rs_train,f1_train=matrix(y_trainS,dt_p_train)\n",
    "print(\"Average Train Confusion Matrix:\\n\", cf_train)\n",
    "print(\"Average Train Accuracy: {0:0.2%}\".format(ca_train))\n",
    "print(\"Average Train Precision {0:0.2%}\".format(ps_train))\n",
    "print(\"Average Train Recall: {0:0.2%}\".format(rs_train))\n",
    "print(\"Average Train F1: {0:0.2%}\".format(f1_train))\n",
    "\n",
    "cf_test,ca_test,ps_test,rs_test,f1_test=matrix(y_testS,h_test)\n",
    "\n",
    "\n",
    "pred_scores.append((\"DecisionTreeClassifier_TfidfVectorizer\",f1_test))"
   ]
  },
  {
   "cell_type": "markdown",
   "metadata": {},
   "source": [
    "### 2. Features created using CountVectorizer "
   ]
  },
  {
   "cell_type": "code",
   "execution_count": 38,
   "metadata": {},
   "outputs": [],
   "source": [
    "XCV = X_train['sms']\n",
    "ycv = X_train['label']"
   ]
  },
  {
   "cell_type": "code",
   "execution_count": 39,
   "metadata": {},
   "outputs": [
    {
     "data": {
      "text/plain": [
       "{0: 490, 1: 68}"
      ]
     },
     "execution_count": 39,
     "metadata": {},
     "output_type": "execute_result"
    }
   ],
   "source": [
    "\n",
    "X_trainCV, X_testCV, y_trainCV, y_testCV = train_test_split(XCV, \n",
    "                                                    ycv,test_size=0.10, shuffle=True,\n",
    "                                                    random_state=1)\n",
    "unique, counts = np.unique(y_testCV, return_counts=True)\n",
    "dict(zip(unique, counts))"
   ]
  },
  {
   "cell_type": "code",
   "execution_count": 40,
   "metadata": {},
   "outputs": [],
   "source": [
    "# Instantiate the CountVectorizer method\n",
    "count_vector = CountVectorizer()\n",
    "\n",
    "# Fit the training data and then return the matrix\n",
    "training_data = count_vector.fit_transform(X_trainCV)\n",
    "\n",
    "#count_vector.get_feature_names()\n",
    "# Transform testing data and return the matrix. \n",
    "testing_data = count_vector.transform(X_testCV)\n"
   ]
  },
  {
   "cell_type": "markdown",
   "metadata": {},
   "source": [
    "### 2.1. Multinomial Naive Bayes - Features created using CountVectorizer "
   ]
  },
  {
   "cell_type": "code",
   "execution_count": 41,
   "metadata": {},
   "outputs": [
    {
     "data": {
      "text/plain": [
       "MultinomialNB()"
      ]
     },
     "execution_count": 41,
     "metadata": {},
     "output_type": "execute_result"
    }
   ],
   "source": [
    "naive_bayes = MultinomialNB()\n",
    "naive_bayes.fit(training_data,y_trainCV)"
   ]
  },
  {
   "cell_type": "code",
   "execution_count": 42,
   "metadata": {},
   "outputs": [],
   "source": [
    "predictions = naive_bayes.predict(testing_data)"
   ]
  },
  {
   "cell_type": "code",
   "execution_count": 43,
   "metadata": {},
   "outputs": [
    {
     "name": "stdout",
     "output_type": "stream",
     "text": [
      "(558,) (558,)\n"
     ]
    }
   ],
   "source": [
    "print(y_testCV.shape,predictions.shape)"
   ]
  },
  {
   "cell_type": "code",
   "execution_count": 44,
   "metadata": {},
   "outputs": [
    {
     "name": "stdout",
     "output_type": "stream",
     "text": [
      "Accuracy score: 98.39%\n",
      "Precision score: 94.03%\n",
      "Recall score: 92.65%\n",
      "F1 score: 93.33%\n"
     ]
    }
   ],
   "source": [
    "print('Accuracy score: {0:0.2%}'.format(accuracy_score(y_testCV, predictions)))\n",
    "print('Precision score: {0:0.2%}'.format(precision_score(y_testCV, predictions)))\n",
    "print('Recall score: {0:0.2%}'.format(recall_score(y_testCV, predictions)))\n",
    "print('F1 score: {0:0.2%}'.format(f1_score(y_testCV, predictions)))\n",
    "\n",
    "cf_test,ca_test,ps_test,rs_test,f1_test=matrix(y_testCV,predictions)\n",
    "pred_scores.append((\"MultiNB_CountVectorizer\",f1_test))"
   ]
  },
  {
   "cell_type": "markdown",
   "metadata": {},
   "source": [
    "### 2.2.  Logistic Regression (SGDClassifier)  - Features created using CountVectorizer "
   ]
  },
  {
   "cell_type": "code",
   "execution_count": 45,
   "metadata": {},
   "outputs": [
    {
     "data": {
      "text/plain": [
       "SGDClassifier(eta0=0.1, loss='log', random_state=1, tol=0.1)"
      ]
     },
     "execution_count": 45,
     "metadata": {},
     "output_type": "execute_result"
    }
   ],
   "source": [
    "model_SGDClassifier = SGDClassifier(eta0=0.1, max_iter=1000, tol=0.1, random_state=1, loss='log')#, penalty=\"l2\")\n",
    "model_SGDClassifier.fit(training_data, y_trainCV.squeeze())"
   ]
  },
  {
   "cell_type": "code",
   "execution_count": 46,
   "metadata": {},
   "outputs": [],
   "source": [
    "h_train = model_SGDClassifier.predict(training_data)\n",
    "h_test = model_SGDClassifier.predict(testing_data)"
   ]
  },
  {
   "cell_type": "code",
   "execution_count": 47,
   "metadata": {},
   "outputs": [
    {
     "name": "stdout",
     "output_type": "stream",
     "text": [
      ">>>>>>>>>>Training Performance<<<<<<<<<<\n",
      "Train Confusion Matrix:\n",
      " [[4333    2]\n",
      " [   4  675]]\n",
      "Train Accuracy: 99.88%\n",
      "Train Precision 99.81%\n",
      "Train Recall: 99.68%\n",
      "Train F1: 99.74%\n",
      "\n",
      ">>>>>>>>>>Test Performance<<<<<<<<<<\n",
      "Test Confusion Matrix:\n",
      " [[490   0]\n",
      " [  5  63]]\n",
      "Test Accuracy: 99.10%\n",
      "Test Precision 99.49%\n",
      "Test Recall 96.32%\n",
      "Test F1: 97.84%\n"
     ]
    }
   ],
   "source": [
    "cf_train,ca_train,ps_train,rs_train,f1_train=matrix(y_trainCV,h_train)\n",
    "\n",
    "print(\">>>>>>>>>>Training Performance<<<<<<<<<<\")\n",
    "print(\"Train Confusion Matrix:\\n\", cf_train)\n",
    "print(\"Train Accuracy: {0:0.2%}\".format(ca_train))\n",
    "print(\"Train Precision {0:0.2%}\".format(ps_train))\n",
    "print(\"Train Recall: {0:0.2%}\".format(rs_train))\n",
    "print(\"Train F1: {0:0.2%}\".format(f1_train))\n",
    "\n",
    "cf_test,ca_test,ps_test,rs_test,f1_test=matrix(y_testCV,h_test)\n",
    "\n",
    "print(\"\\n>>>>>>>>>>Test Performance<<<<<<<<<<\")\n",
    "print(\"Test Confusion Matrix:\\n\", cf_test)\n",
    "print(\"Test Accuracy: {0:0.2%}\".format(ca_test))\n",
    "print(\"Test Precision {0:0.2%}\".format(ps_test))\n",
    "print(\"Test Recall {0:0.2%}\".format(rs_test))\n",
    "print(\"Test F1: {0:0.2%}\".format(f1_test))\n",
    "\n",
    "pred_scores.append((\"SGDClassifier_CountVectorizer\",f1_test))"
   ]
  },
  {
   "cell_type": "markdown",
   "metadata": {},
   "source": [
    "### 2.3.  GridSearch to find the best parameters - Features created using CountVectorizer "
   ]
  },
  {
   "cell_type": "code",
   "execution_count": 48,
   "metadata": {},
   "outputs": [
    {
     "name": "stdout",
     "output_type": "stream",
     "text": [
      "{'eta0': 0.4, 'learning_rate': 'adaptive', 'max_iter': 1000}\n",
      "Time: 16.733672857284546\n"
     ]
    }
   ],
   "source": [
    "start = time.time()\n",
    "model = SGDClassifier(tol=0.1, random_state=1, loss='log')\n",
    "param_grid = [\n",
    "                {'learning_rate': ['invscaling', 'adaptive'],\n",
    "                 'eta0': [0.1, 0.3, 0.4, 0.5, 0.6, 0.7, 0.8, 0.9], \n",
    "                 'max_iter': [1000, 2000, 3000, 4000, 5000], \n",
    "                }\n",
    "]\n",
    "\n",
    "grid_search = GridSearchCV(model, param_grid, cv=10, scoring='f1', refit=True)\n",
    "grid_search.fit(training_data, y_trainCV.squeeze())\n",
    "print(grid_search.best_params_)\n",
    "print(f'Time: {time.time() - start}')"
   ]
  },
  {
   "cell_type": "code",
   "execution_count": 49,
   "metadata": {},
   "outputs": [
    {
     "name": "stdout",
     "output_type": "stream",
     "text": [
      ">>>>>>>>>> Test Performance <<<<<<<<<\n",
      "Accuracy: 98.75%\n",
      "Confusion Matrix:\n",
      " [[490   0]\n",
      " [  7  61]]\n",
      "Precision: 99.30%\n",
      "Recall:    94.85%\n",
      "F1:        96.93%\n"
     ]
    }
   ],
   "source": [
    "best_model = grid_search.best_estimator_\n",
    "\n",
    "h_train = best_model.predict(training_data)\n",
    "h_test = best_model.predict(testing_data)\n",
    "\n",
    "cf_train,ca_train,ps_train,rs_train,f1_train=matrix(y_trainCV,h_train)\n",
    "\n",
    "cf,ca,ps,rs,f1=matrix(y_testCV,h_test)\n",
    "\n",
    "print(\">>>>>>>>>> Test Performance <<<<<<<<<\")\n",
    "print(\"Accuracy: {0:0.2%}\".format(ca))\n",
    "print(\"Confusion Matrix:\\n\", cf)\n",
    "print(\"Precision: {0:0.2%}\".format(ps))\n",
    "print(\"Recall:    {0:0.2%}\".format(rs))\n",
    "print(\"F1:        {0:0.2%}\".format(f1))\n",
    "pred_scores.append((\"SGDClassifier_GS_CountVectorizer\",f1))"
   ]
  },
  {
   "cell_type": "markdown",
   "metadata": {},
   "source": [
    "### 2.4. Shallow Neural Network (SNN) - Features created using CountVectorizer "
   ]
  },
  {
   "cell_type": "code",
   "execution_count": 50,
   "metadata": {},
   "outputs": [
    {
     "name": "stdout",
     "output_type": "stream",
     "text": [
      "Train on 4512 samples, validate on 502 samples\n",
      "Epoch 1/50\n",
      "4512/4512 [==============================] - 10s 2ms/step - loss: 0.1791 - accuracy: 0.9351 - val_loss: 0.0949 - val_accuracy: 0.9701\n",
      "Epoch 2/50\n",
      "4512/4512 [==============================] - 10s 2ms/step - loss: 0.0536 - accuracy: 0.9829 - val_loss: 0.0781 - val_accuracy: 0.9761\n",
      "Epoch 3/50\n",
      "4512/4512 [==============================] - 10s 2ms/step - loss: 0.0236 - accuracy: 0.9940 - val_loss: 0.0622 - val_accuracy: 0.9781\n",
      "Epoch 4/50\n",
      "4512/4512 [==============================] - 10s 2ms/step - loss: 0.0110 - accuracy: 0.9982 - val_loss: 0.0653 - val_accuracy: 0.9821\n",
      "Epoch 5/50\n",
      "4512/4512 [==============================] - 10s 2ms/step - loss: 0.0062 - accuracy: 0.9991 - val_loss: 0.0650 - val_accuracy: 0.9781\n",
      "Epoch 6/50\n",
      "4512/4512 [==============================] - 10s 2ms/step - loss: 0.0037 - accuracy: 0.9996 - val_loss: 0.0632 - val_accuracy: 0.9781\n",
      "Epoch 7/50\n",
      "4512/4512 [==============================] - 10s 2ms/step - loss: 0.0023 - accuracy: 0.9996 - val_loss: 0.0708 - val_accuracy: 0.9801\n",
      "Epoch 8/50\n",
      "4512/4512 [==============================] - 10s 2ms/step - loss: 0.0015 - accuracy: 1.0000 - val_loss: 0.0704 - val_accuracy: 0.9781\n",
      "Epoch 9/50\n",
      "4512/4512 [==============================] - 10s 2ms/step - loss: 0.0012 - accuracy: 1.0000 - val_loss: 0.0722 - val_accuracy: 0.9781\n",
      "Epoch 10/50\n",
      "4512/4512 [==============================] - 10s 2ms/step - loss: 9.3155e-04 - accuracy: 1.0000 - val_loss: 0.0740 - val_accuracy: 0.9781\n",
      "Epoch 11/50\n",
      "4512/4512 [==============================] - 10s 2ms/step - loss: 7.7383e-04 - accuracy: 1.0000 - val_loss: 0.0758 - val_accuracy: 0.9801\n",
      "Time: 109.23110485076904\n"
     ]
    }
   ],
   "source": [
    "num_epochs = 50\n",
    "\n",
    "start = time.time()\n",
    "early_stopping = EarlyStopping(monitor='val_loss', min_delta = 0.1,patience=10) \n",
    "callbacks_list = [early_stopping]\n",
    "\n",
    "model = build_SNN_model(training_data.shape[1],0.1)\n",
    "history = model.fit(training_data,\n",
    "                   y_trainCV,\n",
    "                   epochs=num_epochs,\n",
    "                   verbose=1,\n",
    "                   validation_split=0.1,\n",
    "                   callbacks=callbacks_list)\n",
    "history_dict = history.history\n",
    "history_dict.keys()\n",
    "print(f'Time: {time.time() - start}')"
   ]
  },
  {
   "cell_type": "code",
   "execution_count": 51,
   "metadata": {},
   "outputs": [],
   "source": [
    "h_train,h_test=predict(training_data,testing_data)"
   ]
  },
  {
   "cell_type": "code",
   "execution_count": 52,
   "metadata": {},
   "outputs": [
    {
     "name": "stdout",
     "output_type": "stream",
     "text": [
      "Training Performance\n",
      "Average Train Confusion Matrix:\n",
      " [[4334    1]\n",
      " [   9  670]]\n",
      "Average Train Accuracy: 99.80%\n",
      "Average Train Precision 99.82%\n",
      "Average Train Recall: 99.33%\n",
      "Average Train F1: 99.57%\n",
      "Training Performance\n",
      "Average Test Confusion Matrix:\n",
      " [[490   0]\n",
      " [  5  63]]\n",
      "Average Test Accuracy: 99.10%\n",
      "Average Test Precision 99.49%\n",
      "Average Test Recall 96.32%\n",
      "Average Test F1: 97.84%\n"
     ]
    }
   ],
   "source": [
    "cf_train,ca_train,ps_train,rs_train,f1_train=matrix(y_trainCV,h_train)\n",
    "\n",
    "print(\"Training Performance\")\n",
    "print(\"Average Train Confusion Matrix:\\n\", cf_train)\n",
    "print(\"Average Train Accuracy: {0:0.2%}\".format(ca_train))\n",
    "print(\"Average Train Precision {0:0.2%}\".format(ps_train))\n",
    "print(\"Average Train Recall: {0:0.2%}\".format(rs_train))\n",
    "print(\"Average Train F1: {0:0.2%}\".format(f1_train))\n",
    "\n",
    "cf_test,ca_test,ps_test,rs_test,f1_test=matrix(y_testCV,h_test)\n",
    "\n",
    "print(\"Training Performance\")\n",
    "print(\"Average Test Confusion Matrix:\\n\", cf_test)\n",
    "print(\"Average Test Accuracy: {0:0.2%}\".format(ca_test))\n",
    "print(\"Average Test Precision {0:0.2%}\".format(ps_test))\n",
    "print(\"Average Test Recall {0:0.2%}\".format(rs_test))\n",
    "print(\"Average Test F1: {0:0.2%}\".format(f1_test))\n",
    "\n",
    "pred_scores.append((\"SNN_CountVectorizer\",f1_test))"
   ]
  },
  {
   "cell_type": "markdown",
   "metadata": {},
   "source": [
    "### 2.5. Deep Neural Network (DNN) - Features created using CountVectorizer "
   ]
  },
  {
   "cell_type": "code",
   "execution_count": 53,
   "metadata": {},
   "outputs": [
    {
     "name": "stdout",
     "output_type": "stream",
     "text": [
      "Train on 4512 samples, validate on 502 samples\n",
      "Epoch 1/50\n",
      "4512/4512 [==============================] - 16s 4ms/step - loss: 0.2921 - accuracy: 0.9317 - val_loss: 0.1791 - val_accuracy: 0.9562\n",
      "Epoch 2/50\n",
      "4512/4512 [==============================] - 17s 4ms/step - loss: 0.1694 - accuracy: 0.9694 - val_loss: 0.0951 - val_accuracy: 0.9821\n",
      "Epoch 3/50\n",
      "4512/4512 [==============================] - 16s 4ms/step - loss: 0.1389 - accuracy: 0.9741 - val_loss: 0.0881 - val_accuracy: 0.9861\n",
      "Epoch 4/50\n",
      "4512/4512 [==============================] - 15s 3ms/step - loss: 0.1184 - accuracy: 0.9818 - val_loss: 0.0904 - val_accuracy: 0.9841\n",
      "Epoch 5/50\n",
      "4512/4512 [==============================] - 14s 3ms/step - loss: 0.1069 - accuracy: 0.9787 - val_loss: 0.0827 - val_accuracy: 0.9821\n",
      "Epoch 6/50\n",
      "4512/4512 [==============================] - 14s 3ms/step - loss: 0.1022 - accuracy: 0.9809 - val_loss: 0.0799 - val_accuracy: 0.9841\n",
      "Epoch 7/50\n",
      "4512/4512 [==============================] - 16s 4ms/step - loss: 0.0925 - accuracy: 0.9820 - val_loss: 0.0842 - val_accuracy: 0.9801\n",
      "Epoch 8/50\n",
      "4512/4512 [==============================] - 16s 4ms/step - loss: 0.1011 - accuracy: 0.9816 - val_loss: 0.0826 - val_accuracy: 0.9841\n",
      "Epoch 9/50\n",
      "4512/4512 [==============================] - 15s 3ms/step - loss: 0.0956 - accuracy: 0.9836 - val_loss: 0.0902 - val_accuracy: 0.9781\n",
      "Epoch 10/50\n",
      "4512/4512 [==============================] - 14s 3ms/step - loss: 0.0978 - accuracy: 0.9827 - val_loss: 0.0815 - val_accuracy: 0.9841\n",
      "Epoch 11/50\n",
      "4512/4512 [==============================] - 14s 3ms/step - loss: 0.0924 - accuracy: 0.9812 - val_loss: 0.0861 - val_accuracy: 0.9801\n",
      "Time: 169.73287415504456\n"
     ]
    }
   ],
   "source": [
    "K.clear_session()\n",
    "\n",
    "start = time.time()\n",
    "\n",
    "early_stopping = EarlyStopping(monitor='val_loss', min_delta = 0.1,patience=10) \n",
    "callbacks_list = [early_stopping]\n",
    "\n",
    "model = build_DNN_model(training_data.shape[1],0.1)\n",
    "\n",
    "\n",
    "history =model.fit(training_data,\n",
    "                   y_trainCV,\n",
    "                   epochs=num_epochs,\n",
    "                   verbose=1,\n",
    "                   validation_split=0.1,\n",
    "                   callbacks=callbacks_list)\n",
    "print(f'Time: {time.time() - start}')"
   ]
  },
  {
   "cell_type": "code",
   "execution_count": 54,
   "metadata": {},
   "outputs": [],
   "source": [
    "h_train,h_test=predict(training_data,testing_data)"
   ]
  },
  {
   "cell_type": "code",
   "execution_count": 55,
   "metadata": {},
   "outputs": [
    {
     "name": "stdout",
     "output_type": "stream",
     "text": [
      "Training Performance\n",
      "Average Train Confusion Matrix:\n",
      " [[4329    6]\n",
      " [  10  669]]\n",
      "Average Train Accuracy: 99.68%\n",
      "Average Train Precision 99.44%\n",
      "Average Train Recall: 99.19%\n",
      "Average Train F1: 99.32%\n",
      "Training Performance\n",
      "Average Test Confusion Matrix:\n",
      " [[490   0]\n",
      " [  9  59]]\n",
      "Average Test Accuracy: 98.39%\n",
      "Average Test Precision 99.10%\n",
      "Average Test Recall 93.38%\n",
      "Average Test F1: 96.00%\n"
     ]
    }
   ],
   "source": [
    "\n",
    "cf_train,ca_train,ps_train,rs_train,f1_train=matrix(y_trainCV,h_train)\n",
    "\n",
    "print(\"Training Performance\")\n",
    "print(\"Average Train Confusion Matrix:\\n\", cf_train)\n",
    "print(\"Average Train Accuracy: {0:0.2%}\".format(ca_train))\n",
    "print(\"Average Train Precision {0:0.2%}\".format(ps_train))\n",
    "print(\"Average Train Recall: {0:0.2%}\".format(rs_train))\n",
    "print(\"Average Train F1: {0:0.2%}\".format(f1_train))\n",
    "\n",
    "cf_test,ca_test,ps_test,rs_test,f1_test=matrix(y_testCV,h_test)\n",
    "\n",
    "print(\"Training Performance\")\n",
    "print(\"Average Test Confusion Matrix:\\n\", cf_test)\n",
    "print(\"Average Test Accuracy: {0:0.2%}\".format(ca_test))\n",
    "print(\"Average Test Precision {0:0.2%}\".format(ps_test))\n",
    "print(\"Average Test Recall {0:0.2%}\".format(rs_test))\n",
    "print(\"Average Test F1: {0:0.2%}\".format(f1_test))\n",
    "\n",
    "pred_scores.append((\"DNN_CountVectorizer\",f1_test))"
   ]
  },
  {
   "cell_type": "markdown",
   "metadata": {},
   "source": [
    "### 2.6. DecisionTreeClassifier - Features created using CountVectorizer "
   ]
  },
  {
   "cell_type": "code",
   "execution_count": 56,
   "metadata": {},
   "outputs": [
    {
     "data": {
      "text/plain": [
       "DecisionTreeClassifier(random_state=50)"
      ]
     },
     "execution_count": 56,
     "metadata": {},
     "output_type": "execute_result"
    }
   ],
   "source": [
    "dt = DecisionTreeClassifier(random_state=50)\n",
    "dt.fit(training_data, y_trainCV)"
   ]
  },
  {
   "cell_type": "code",
   "execution_count": 57,
   "metadata": {},
   "outputs": [
    {
     "name": "stdout",
     "output_type": "stream",
     "text": [
      "(5014,) (558, 8882)\n"
     ]
    }
   ],
   "source": [
    "dt_p_train = dt.predict(training_data)\n",
    "print(dt_p_train.shape,testing_data.shape)"
   ]
  },
  {
   "cell_type": "code",
   "execution_count": 58,
   "metadata": {},
   "outputs": [],
   "source": [
    "cm = confusion_matrix(y_trainCV, dt_p_train)"
   ]
  },
  {
   "cell_type": "code",
   "execution_count": 59,
   "metadata": {},
   "outputs": [
    {
     "name": "stdout",
     "output_type": "stream",
     "text": [
      "Accuracy :: 96.95% \n",
      "\n",
      "\n",
      "              precision    recall  f1-score   support\n",
      "\n",
      "         ham       0.98      0.99      0.98       490\n",
      "        spam       0.92      0.82      0.87        68\n",
      "\n",
      "    accuracy                           0.97       558\n",
      "   macro avg       0.95      0.91      0.93       558\n",
      "weighted avg       0.97      0.97      0.97       558\n",
      "\n"
     ]
    }
   ],
   "source": [
    "\n",
    "target_names = ['ham', 'spam']\n",
    "print (\"Accuracy :: {0:0.2%} \\n\\n\" .format(accuracy_score(y_testCV, dt.predict(testing_data))))\n",
    "print (classification_report(y_testS, dt.predict(testing_data),target_names=target_names))\n",
    "\n",
    "cf_train,ca_train,ps_train,rs_train,f1_train=matrix(y_trainCV,dt_p_train)\n",
    "pred_scores.append((\"DecisionTreeClassifier_CountVectorizer\",f1_train))"
   ]
  },
  {
   "cell_type": "code",
   "execution_count": 60,
   "metadata": {},
   "outputs": [
    {
     "data": {
      "text/plain": [
       "[('SGDClassifier_TfidfVectorizer', 0.8286240786240786),\n",
       " ('SGDClassifier_GS_TfidfVectorizer', 0.8211045085481237),\n",
       " ('SNN_TfidfVectorizer', 0.7997503510688095),\n",
       " ('DNN_TfidfVectorizer', 0.8400382226469183),\n",
       " ('DecisionTreeClassifier_TfidfVectorizer', 0.8400382226469183),\n",
       " ('MultiNB_CountVectorizer', 0.962079510703364),\n",
       " ('SGDClassifier_CountVectorizer', 0.9783779594683613),\n",
       " ('SGDClassifier_GS_CountVectorizer', 0.9693221177634834),\n",
       " ('SNN_CountVectorizer', 0.9783779594683613),\n",
       " ('DNN_CountVectorizer', 0.960016878577741),\n",
       " ('DecisionTreeClassifier_CountVectorizer', 1.0)]"
      ]
     },
     "execution_count": 60,
     "metadata": {},
     "output_type": "execute_result"
    }
   ],
   "source": [
    "pred_scores"
   ]
  },
  {
   "cell_type": "code",
   "execution_count": 61,
   "metadata": {},
   "outputs": [
    {
     "data": {
      "text/html": [
       "<div>\n",
       "<style scoped>\n",
       "    .dataframe tbody tr th:only-of-type {\n",
       "        vertical-align: middle;\n",
       "    }\n",
       "\n",
       "    .dataframe tbody tr th {\n",
       "        vertical-align: top;\n",
       "    }\n",
       "\n",
       "    .dataframe thead th {\n",
       "        text-align: right;\n",
       "    }\n",
       "</style>\n",
       "<table border=\"1\" class=\"dataframe\">\n",
       "  <thead>\n",
       "    <tr style=\"text-align: right;\">\n",
       "      <th></th>\n",
       "      <th>0</th>\n",
       "      <th>1</th>\n",
       "    </tr>\n",
       "  </thead>\n",
       "  <tbody>\n",
       "    <tr>\n",
       "      <th>0</th>\n",
       "      <td>SGDClassifier_TfidfVectorizer</td>\n",
       "      <td>0.828624</td>\n",
       "    </tr>\n",
       "    <tr>\n",
       "      <th>1</th>\n",
       "      <td>SGDClassifier_GS_TfidfVectorizer</td>\n",
       "      <td>0.821105</td>\n",
       "    </tr>\n",
       "    <tr>\n",
       "      <th>2</th>\n",
       "      <td>SNN_TfidfVectorizer</td>\n",
       "      <td>0.799750</td>\n",
       "    </tr>\n",
       "    <tr>\n",
       "      <th>3</th>\n",
       "      <td>DNN_TfidfVectorizer</td>\n",
       "      <td>0.840038</td>\n",
       "    </tr>\n",
       "    <tr>\n",
       "      <th>4</th>\n",
       "      <td>DecisionTreeClassifier_TfidfVectorizer</td>\n",
       "      <td>0.840038</td>\n",
       "    </tr>\n",
       "    <tr>\n",
       "      <th>5</th>\n",
       "      <td>MultiNB_CountVectorizer</td>\n",
       "      <td>0.962080</td>\n",
       "    </tr>\n",
       "    <tr>\n",
       "      <th>6</th>\n",
       "      <td>SGDClassifier_CountVectorizer</td>\n",
       "      <td>0.978378</td>\n",
       "    </tr>\n",
       "    <tr>\n",
       "      <th>7</th>\n",
       "      <td>SGDClassifier_GS_CountVectorizer</td>\n",
       "      <td>0.969322</td>\n",
       "    </tr>\n",
       "    <tr>\n",
       "      <th>8</th>\n",
       "      <td>SNN_CountVectorizer</td>\n",
       "      <td>0.978378</td>\n",
       "    </tr>\n",
       "    <tr>\n",
       "      <th>9</th>\n",
       "      <td>DNN_CountVectorizer</td>\n",
       "      <td>0.960017</td>\n",
       "    </tr>\n",
       "    <tr>\n",
       "      <th>10</th>\n",
       "      <td>DecisionTreeClassifier_CountVectorizer</td>\n",
       "      <td>1.000000</td>\n",
       "    </tr>\n",
       "  </tbody>\n",
       "</table>\n",
       "</div>"
      ],
      "text/plain": [
       "                                         0         1\n",
       "0            SGDClassifier_TfidfVectorizer  0.828624\n",
       "1         SGDClassifier_GS_TfidfVectorizer  0.821105\n",
       "2                      SNN_TfidfVectorizer  0.799750\n",
       "3                      DNN_TfidfVectorizer  0.840038\n",
       "4   DecisionTreeClassifier_TfidfVectorizer  0.840038\n",
       "5                  MultiNB_CountVectorizer  0.962080\n",
       "6            SGDClassifier_CountVectorizer  0.978378\n",
       "7         SGDClassifier_GS_CountVectorizer  0.969322\n",
       "8                      SNN_CountVectorizer  0.978378\n",
       "9                      DNN_CountVectorizer  0.960017\n",
       "10  DecisionTreeClassifier_CountVectorizer  1.000000"
      ]
     },
     "execution_count": 61,
     "metadata": {},
     "output_type": "execute_result"
    }
   ],
   "source": [
    "df = pd.DataFrame(pred_scores) \n",
    "df"
   ]
  },
  {
   "cell_type": "markdown",
   "metadata": {},
   "source": [
    "### Plotting the F1 score on testing set:"
   ]
  },
  {
   "cell_type": "code",
   "execution_count": 62,
   "metadata": {},
   "outputs": [
    {
     "data": {
      "text/plain": [
       "<matplotlib.legend.Legend at 0x1e42660f388>"
      ]
     },
     "execution_count": 62,
     "metadata": {},
     "output_type": "execute_result"
    },
    {
     "data": {
      "image/png": "[encoded data removed]",
      "text/plain": [
       "<Figure size 792x432 with 1 Axes>"
      ]
     },
     "metadata": {
      "needs_background": "light"
     },
     "output_type": "display_data"
    }
   ],
   "source": [
    "df.plot(kind='bar', ylim=(0.6,1.0), figsize=(11,6), align='center')\n",
    "plt.xticks(np.arange(11), df[0])\n",
    "plt.ylabel('F1 Score')\n",
    "plt.title('Distribution by Classifier')\n",
    "plt.legend(bbox_to_anchor=(1.05, 1), loc=2, borderaxespad=0.)\n",
    "\n"
   ]
  },
  {
   "cell_type": "markdown",
   "metadata": {},
   "source": [
    "### Conclusion:\n",
    "- From simulation results, it clearly see that if we vectorize the data using CountVectorizer then Logistic Regression and DNN is showing best results.\n",
    "- The overall accuracy 99.10% and 98.92% respective for using CountVectorizer then Logistic Regression and DNN. Also, the F1 score is higher for these two models.\n"
   ]
  }
 ],
 "metadata": {
  "kernelspec": {
   "display_name": "Python 3",
   "language": "python",
   "name": "python3"
  },
  "language_info": {
   "codemirror_mode": {
    "name": "ipython",
    "version": 3
   },
   "file_extension": ".py",
   "mimetype": "text/x-python",
   "name": "python",
   "nbconvert_exporter": "python",
   "pygments_lexer": "ipython3",
   "version": "3.7.9"
  }
 },
 "nbformat": 4,
 "nbformat_minor": 2
}
